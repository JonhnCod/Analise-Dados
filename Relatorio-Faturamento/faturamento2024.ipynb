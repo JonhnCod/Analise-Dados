{
 "cells": [
  {
   "cell_type": "code",
   "execution_count": 1,
   "metadata": {},
   "outputs": [],
   "source": [
    "import pandas as pd\n",
    "import plotly.express as px\n",
    "\n",
    "meses = ['JANEIRO','FEVEREIRO','MARÇO','ABRIL','MAIO','JUNHO','JULHO','AGOSTO','SETEMBRO','OUTUBRO','NOVEMBRO']\n",
    "dados = pd.read_excel(r'FAT DETALHADO 2024 - Bruna Ferreira.xlsx',sheet_name = meses)\n",
    "\n",
    "lista_dfs = []\n",
    "for mes in meses:\n",
    "    df_mes = dados[mes]\n",
    "    lista_dfs.append(df_mes)"
   ]
  },
  {
   "cell_type": "code",
   "execution_count": 2,
   "metadata": {},
   "outputs": [],
   "source": [
    "df_agrupado = pd.concat(lista_dfs,ignore_index=True)"
   ]
  },
  {
   "cell_type": "code",
   "execution_count": 3,
   "metadata": {},
   "outputs": [],
   "source": [
    "df_filtrado = df_agrupado[df_agrupado['Quantidade'] > 0]"
   ]
  },
  {
   "cell_type": "code",
   "execution_count": 4,
   "metadata": {},
   "outputs": [
    {
     "data": {
      "text/plain": [
       "Cliente                 0\n",
       "Loja                    0\n",
       "Nome                    0\n",
       "N Fantasia              0\n",
       "Classif                 0\n",
       "Estado                  0\n",
       "Municipio               0\n",
       "Tp Hospital           519\n",
       "No do Pedido            1\n",
       "Nota Original           0\n",
       "Emissao Original        0\n",
       "Nota Devolucao       2371\n",
       "Emissao Devolucao    2371\n",
       "Filial Original         0\n",
       "Filial Destino       1950\n",
       "Prefixo                14\n",
       "Produto                 0\n",
       "Descricao               0\n",
       "Lote                    0\n",
       "Grupo                   0\n",
       "Quantidade              0\n",
       "Vlr.Unitario            0\n",
       "Vlr.Total               0\n",
       "Desconto                0\n",
       "Vlr.IPI                 0\n",
       "Vendedor 1              0\n",
       "Nome Vend 1             0\n",
       "Nome do Pac             0\n",
       "Nome do Hosp          270\n",
       "Nome Conven.          270\n",
       "Medico                573\n",
       "Nome Medico            42\n",
       "Equipe Med:          2418\n",
       "Nome da Eq.          2418\n",
       "Nr. SBOT             1173\n",
       "Dt Cirurgia           435\n",
       "dtype: int64"
      ]
     },
     "execution_count": 4,
     "metadata": {},
     "output_type": "execute_result"
    }
   ],
   "source": [
    "df_agrupado.isna().sum()"
   ]
  },
  {
   "cell_type": "code",
   "execution_count": 5,
   "metadata": {},
   "outputs": [
    {
     "data": {
      "text/plain": [
       "dtype('O')"
      ]
     },
     "execution_count": 5,
     "metadata": {},
     "output_type": "execute_result"
    }
   ],
   "source": [
    "df_agrupado['Nome'].astype('object')\n",
    "df_agrupado['Nome'].dtypes"
   ]
  },
  {
   "cell_type": "code",
   "execution_count": 6,
   "metadata": {},
   "outputs": [],
   "source": [
    "def formatar_brasileiro(valor):\n",
    "    valor_str = f\"{valor:,.2f}\"  \n",
    "    return f\"R$ {valor_str.replace(',', 'X').replace('.', ',').replace('X', '.')}\""
   ]
  },
  {
   "cell_type": "markdown",
   "metadata": {},
   "source": [
    "Principal cliente - cliente potencial - o que mais aparece em faturamento 2024:\n",
    "\n",
    "1 - maior quantidade de itens faturados naquele cliente;\n",
    "\n"
   ]
  },
  {
   "cell_type": "code",
   "execution_count": 7,
   "metadata": {},
   "outputs": [
    {
     "data": {
      "application/vnd.plotly.v1+json": {
       "config": {
        "plotlyServerURL": "https://plot.ly"
       },
       "data": [
        {
         "hovertemplate": "Nome=%{y}<br>Quantidade=%{x}<extra></extra>",
         "legendgroup": "ASSOC BENEF EVANG DE JOINVILLE",
         "marker": {
          "color": "#636efa"
         },
         "name": "ASSOC BENEF EVANG DE JOINVILLE",
         "orientation": "h",
         "showlegend": true,
         "type": "funnel",
         "x": {
          "bdata": "7QE=",
          "dtype": "i2"
         },
         "xaxis": "x",
         "y": [
          "ASSOC BENEF EVANG DE JOINVILLE"
         ],
         "yaxis": "y"
        },
        {
         "hovertemplate": "Nome=%{y}<br>Quantidade=%{x}<extra></extra>",
         "legendgroup": "UNIMED DE JOINVILLE COOP  DE TRAB MEDICO",
         "marker": {
          "color": "#EF553B"
         },
         "name": "UNIMED DE JOINVILLE COOP  DE TRAB MEDICO",
         "orientation": "h",
         "showlegend": true,
         "type": "funnel",
         "x": {
          "bdata": "0QE=",
          "dtype": "i2"
         },
         "xaxis": "x",
         "y": [
          "UNIMED DE JOINVILLE COOP  DE TRAB MEDICO"
         ],
         "yaxis": "y"
        },
        {
         "hovertemplate": "Nome=%{y}<br>Quantidade=%{x}<extra></extra>",
         "legendgroup": "UNIMED DE TUBARAO COOP  DE TRAB MEDICO DA REG",
         "marker": {
          "color": "#00cc96"
         },
         "name": "UNIMED DE TUBARAO COOP  DE TRAB MEDICO DA REG",
         "orientation": "h",
         "showlegend": true,
         "type": "funnel",
         "x": {
          "bdata": "lQA=",
          "dtype": "i2"
         },
         "xaxis": "x",
         "y": [
          "UNIMED DE TUBARAO COOP  DE TRAB MEDICO DA REG"
         ],
         "yaxis": "y"
        },
        {
         "hovertemplate": "Nome=%{y}<br>Quantidade=%{x}<extra></extra>",
         "legendgroup": "ASS DE CARIDADE S VICENTE DE PAULO",
         "marker": {
          "color": "#ab63fa"
         },
         "name": "ASS DE CARIDADE S VICENTE DE PAULO",
         "orientation": "h",
         "showlegend": true,
         "type": "funnel",
         "x": {
          "bdata": "dQ==",
          "dtype": "i1"
         },
         "xaxis": "x",
         "y": [
          "ASS DE CARIDADE S VICENTE DE PAULO"
         ],
         "yaxis": "y"
        },
        {
         "hovertemplate": "Nome=%{y}<br>Quantidade=%{x}<extra></extra>",
         "legendgroup": "DIGEST ENDOSCOPIA E FISIOLOGIA DIGESTIVA LTDA",
         "marker": {
          "color": "#FFA15A"
         },
         "name": "DIGEST ENDOSCOPIA E FISIOLOGIA DIGESTIVA LTDA",
         "orientation": "h",
         "showlegend": true,
         "type": "funnel",
         "x": {
          "bdata": "aQ==",
          "dtype": "i1"
         },
         "xaxis": "x",
         "y": [
          "DIGEST ENDOSCOPIA E FISIOLOGIA DIGESTIVA LTDA"
         ],
         "yaxis": "y"
        },
        {
         "hovertemplate": "Nome=%{y}<br>Quantidade=%{x}<extra></extra>",
         "legendgroup": "UNIMED CHAPECO - COOP DE TRAB MED REG OESTE CATARINENSE",
         "marker": {
          "color": "#19d3f3"
         },
         "name": "UNIMED CHAPECO - COOP DE TRAB MED REG OESTE CATARINENSE",
         "orientation": "h",
         "showlegend": true,
         "type": "funnel",
         "x": {
          "bdata": "Zw==",
          "dtype": "i1"
         },
         "xaxis": "x",
         "y": [
          "UNIMED CHAPECO - COOP DE TRAB MED REG OESTE CATARINENSE"
         ],
         "yaxis": "y"
        },
        {
         "hovertemplate": "Nome=%{y}<br>Quantidade=%{x}<extra></extra>",
         "legendgroup": "UNIMED GRANDE FLORIANOPOLIS - COOP  DE TRAB MEDICO",
         "marker": {
          "color": "#FF6692"
         },
         "name": "UNIMED GRANDE FLORIANOPOLIS - COOP  DE TRAB MEDICO",
         "orientation": "h",
         "showlegend": true,
         "type": "funnel",
         "x": {
          "bdata": "Xg==",
          "dtype": "i1"
         },
         "xaxis": "x",
         "y": [
          "UNIMED GRANDE FLORIANOPOLIS - COOP  DE TRAB MEDICO"
         ],
         "yaxis": "y"
        },
        {
         "hovertemplate": "Nome=%{y}<br>Quantidade=%{x}<extra></extra>",
         "legendgroup": "ASSOC HOSP SAO JOSE DE JARAGUA DO SUL",
         "marker": {
          "color": "#B6E880"
         },
         "name": "ASSOC HOSP SAO JOSE DE JARAGUA DO SUL",
         "orientation": "h",
         "showlegend": true,
         "type": "funnel",
         "x": {
          "bdata": "SQ==",
          "dtype": "i1"
         },
         "xaxis": "x",
         "y": [
          "ASSOC HOSP SAO JOSE DE JARAGUA DO SUL"
         ],
         "yaxis": "y"
        },
        {
         "hovertemplate": "Nome=%{y}<br>Quantidade=%{x}<extra></extra>",
         "legendgroup": "ASSOC FRANCO BRASILEIRA",
         "marker": {
          "color": "#FF97FF"
         },
         "name": "ASSOC FRANCO BRASILEIRA",
         "orientation": "h",
         "showlegend": true,
         "type": "funnel",
         "x": {
          "bdata": "Qw==",
          "dtype": "i1"
         },
         "xaxis": "x",
         "y": [
          "ASSOC FRANCO BRASILEIRA"
         ],
         "yaxis": "y"
        },
        {
         "hovertemplate": "Nome=%{y}<br>Quantidade=%{x}<extra></extra>",
         "legendgroup": "HOSPITAL BAIA SUL S/A",
         "marker": {
          "color": "#FECB52"
         },
         "name": "HOSPITAL BAIA SUL S/A",
         "orientation": "h",
         "showlegend": true,
         "type": "funnel",
         "x": {
          "bdata": "QQ==",
          "dtype": "i1"
         },
         "xaxis": "x",
         "y": [
          "HOSPITAL BAIA SUL S/A"
         ],
         "yaxis": "y"
        }
       ],
       "layout": {
        "legend": {
         "title": {
          "text": "Nome"
         },
         "tracegroupgap": 0
        },
        "margin": {
         "t": 60
        },
        "template": {
         "data": {
          "bar": [
           {
            "error_x": {
             "color": "#2a3f5f"
            },
            "error_y": {
             "color": "#2a3f5f"
            },
            "marker": {
             "line": {
              "color": "#E5ECF6",
              "width": 0.5
             },
             "pattern": {
              "fillmode": "overlay",
              "size": 10,
              "solidity": 0.2
             }
            },
            "type": "bar"
           }
          ],
          "barpolar": [
           {
            "marker": {
             "line": {
              "color": "#E5ECF6",
              "width": 0.5
             },
             "pattern": {
              "fillmode": "overlay",
              "size": 10,
              "solidity": 0.2
             }
            },
            "type": "barpolar"
           }
          ],
          "carpet": [
           {
            "aaxis": {
             "endlinecolor": "#2a3f5f",
             "gridcolor": "white",
             "linecolor": "white",
             "minorgridcolor": "white",
             "startlinecolor": "#2a3f5f"
            },
            "baxis": {
             "endlinecolor": "#2a3f5f",
             "gridcolor": "white",
             "linecolor": "white",
             "minorgridcolor": "white",
             "startlinecolor": "#2a3f5f"
            },
            "type": "carpet"
           }
          ],
          "choropleth": [
           {
            "colorbar": {
             "outlinewidth": 0,
             "ticks": ""
            },
            "type": "choropleth"
           }
          ],
          "contour": [
           {
            "colorbar": {
             "outlinewidth": 0,
             "ticks": ""
            },
            "colorscale": [
             [
              0,
              "#0d0887"
             ],
             [
              0.1111111111111111,
              "#46039f"
             ],
             [
              0.2222222222222222,
              "#7201a8"
             ],
             [
              0.3333333333333333,
              "#9c179e"
             ],
             [
              0.4444444444444444,
              "#bd3786"
             ],
             [
              0.5555555555555556,
              "#d8576b"
             ],
             [
              0.6666666666666666,
              "#ed7953"
             ],
             [
              0.7777777777777778,
              "#fb9f3a"
             ],
             [
              0.8888888888888888,
              "#fdca26"
             ],
             [
              1,
              "#f0f921"
             ]
            ],
            "type": "contour"
           }
          ],
          "contourcarpet": [
           {
            "colorbar": {
             "outlinewidth": 0,
             "ticks": ""
            },
            "type": "contourcarpet"
           }
          ],
          "heatmap": [
           {
            "colorbar": {
             "outlinewidth": 0,
             "ticks": ""
            },
            "colorscale": [
             [
              0,
              "#0d0887"
             ],
             [
              0.1111111111111111,
              "#46039f"
             ],
             [
              0.2222222222222222,
              "#7201a8"
             ],
             [
              0.3333333333333333,
              "#9c179e"
             ],
             [
              0.4444444444444444,
              "#bd3786"
             ],
             [
              0.5555555555555556,
              "#d8576b"
             ],
             [
              0.6666666666666666,
              "#ed7953"
             ],
             [
              0.7777777777777778,
              "#fb9f3a"
             ],
             [
              0.8888888888888888,
              "#fdca26"
             ],
             [
              1,
              "#f0f921"
             ]
            ],
            "type": "heatmap"
           }
          ],
          "histogram": [
           {
            "marker": {
             "pattern": {
              "fillmode": "overlay",
              "size": 10,
              "solidity": 0.2
             }
            },
            "type": "histogram"
           }
          ],
          "histogram2d": [
           {
            "colorbar": {
             "outlinewidth": 0,
             "ticks": ""
            },
            "colorscale": [
             [
              0,
              "#0d0887"
             ],
             [
              0.1111111111111111,
              "#46039f"
             ],
             [
              0.2222222222222222,
              "#7201a8"
             ],
             [
              0.3333333333333333,
              "#9c179e"
             ],
             [
              0.4444444444444444,
              "#bd3786"
             ],
             [
              0.5555555555555556,
              "#d8576b"
             ],
             [
              0.6666666666666666,
              "#ed7953"
             ],
             [
              0.7777777777777778,
              "#fb9f3a"
             ],
             [
              0.8888888888888888,
              "#fdca26"
             ],
             [
              1,
              "#f0f921"
             ]
            ],
            "type": "histogram2d"
           }
          ],
          "histogram2dcontour": [
           {
            "colorbar": {
             "outlinewidth": 0,
             "ticks": ""
            },
            "colorscale": [
             [
              0,
              "#0d0887"
             ],
             [
              0.1111111111111111,
              "#46039f"
             ],
             [
              0.2222222222222222,
              "#7201a8"
             ],
             [
              0.3333333333333333,
              "#9c179e"
             ],
             [
              0.4444444444444444,
              "#bd3786"
             ],
             [
              0.5555555555555556,
              "#d8576b"
             ],
             [
              0.6666666666666666,
              "#ed7953"
             ],
             [
              0.7777777777777778,
              "#fb9f3a"
             ],
             [
              0.8888888888888888,
              "#fdca26"
             ],
             [
              1,
              "#f0f921"
             ]
            ],
            "type": "histogram2dcontour"
           }
          ],
          "mesh3d": [
           {
            "colorbar": {
             "outlinewidth": 0,
             "ticks": ""
            },
            "type": "mesh3d"
           }
          ],
          "parcoords": [
           {
            "line": {
             "colorbar": {
              "outlinewidth": 0,
              "ticks": ""
             }
            },
            "type": "parcoords"
           }
          ],
          "pie": [
           {
            "automargin": true,
            "type": "pie"
           }
          ],
          "scatter": [
           {
            "fillpattern": {
             "fillmode": "overlay",
             "size": 10,
             "solidity": 0.2
            },
            "type": "scatter"
           }
          ],
          "scatter3d": [
           {
            "line": {
             "colorbar": {
              "outlinewidth": 0,
              "ticks": ""
             }
            },
            "marker": {
             "colorbar": {
              "outlinewidth": 0,
              "ticks": ""
             }
            },
            "type": "scatter3d"
           }
          ],
          "scattercarpet": [
           {
            "marker": {
             "colorbar": {
              "outlinewidth": 0,
              "ticks": ""
             }
            },
            "type": "scattercarpet"
           }
          ],
          "scattergeo": [
           {
            "marker": {
             "colorbar": {
              "outlinewidth": 0,
              "ticks": ""
             }
            },
            "type": "scattergeo"
           }
          ],
          "scattergl": [
           {
            "marker": {
             "colorbar": {
              "outlinewidth": 0,
              "ticks": ""
             }
            },
            "type": "scattergl"
           }
          ],
          "scattermap": [
           {
            "marker": {
             "colorbar": {
              "outlinewidth": 0,
              "ticks": ""
             }
            },
            "type": "scattermap"
           }
          ],
          "scattermapbox": [
           {
            "marker": {
             "colorbar": {
              "outlinewidth": 0,
              "ticks": ""
             }
            },
            "type": "scattermapbox"
           }
          ],
          "scatterpolar": [
           {
            "marker": {
             "colorbar": {
              "outlinewidth": 0,
              "ticks": ""
             }
            },
            "type": "scatterpolar"
           }
          ],
          "scatterpolargl": [
           {
            "marker": {
             "colorbar": {
              "outlinewidth": 0,
              "ticks": ""
             }
            },
            "type": "scatterpolargl"
           }
          ],
          "scatterternary": [
           {
            "marker": {
             "colorbar": {
              "outlinewidth": 0,
              "ticks": ""
             }
            },
            "type": "scatterternary"
           }
          ],
          "surface": [
           {
            "colorbar": {
             "outlinewidth": 0,
             "ticks": ""
            },
            "colorscale": [
             [
              0,
              "#0d0887"
             ],
             [
              0.1111111111111111,
              "#46039f"
             ],
             [
              0.2222222222222222,
              "#7201a8"
             ],
             [
              0.3333333333333333,
              "#9c179e"
             ],
             [
              0.4444444444444444,
              "#bd3786"
             ],
             [
              0.5555555555555556,
              "#d8576b"
             ],
             [
              0.6666666666666666,
              "#ed7953"
             ],
             [
              0.7777777777777778,
              "#fb9f3a"
             ],
             [
              0.8888888888888888,
              "#fdca26"
             ],
             [
              1,
              "#f0f921"
             ]
            ],
            "type": "surface"
           }
          ],
          "table": [
           {
            "cells": {
             "fill": {
              "color": "#EBF0F8"
             },
             "line": {
              "color": "white"
             }
            },
            "header": {
             "fill": {
              "color": "#C8D4E3"
             },
             "line": {
              "color": "white"
             }
            },
            "type": "table"
           }
          ]
         },
         "layout": {
          "annotationdefaults": {
           "arrowcolor": "#2a3f5f",
           "arrowhead": 0,
           "arrowwidth": 1
          },
          "autotypenumbers": "strict",
          "coloraxis": {
           "colorbar": {
            "outlinewidth": 0,
            "ticks": ""
           }
          },
          "colorscale": {
           "diverging": [
            [
             0,
             "#8e0152"
            ],
            [
             0.1,
             "#c51b7d"
            ],
            [
             0.2,
             "#de77ae"
            ],
            [
             0.3,
             "#f1b6da"
            ],
            [
             0.4,
             "#fde0ef"
            ],
            [
             0.5,
             "#f7f7f7"
            ],
            [
             0.6,
             "#e6f5d0"
            ],
            [
             0.7,
             "#b8e186"
            ],
            [
             0.8,
             "#7fbc41"
            ],
            [
             0.9,
             "#4d9221"
            ],
            [
             1,
             "#276419"
            ]
           ],
           "sequential": [
            [
             0,
             "#0d0887"
            ],
            [
             0.1111111111111111,
             "#46039f"
            ],
            [
             0.2222222222222222,
             "#7201a8"
            ],
            [
             0.3333333333333333,
             "#9c179e"
            ],
            [
             0.4444444444444444,
             "#bd3786"
            ],
            [
             0.5555555555555556,
             "#d8576b"
            ],
            [
             0.6666666666666666,
             "#ed7953"
            ],
            [
             0.7777777777777778,
             "#fb9f3a"
            ],
            [
             0.8888888888888888,
             "#fdca26"
            ],
            [
             1,
             "#f0f921"
            ]
           ],
           "sequentialminus": [
            [
             0,
             "#0d0887"
            ],
            [
             0.1111111111111111,
             "#46039f"
            ],
            [
             0.2222222222222222,
             "#7201a8"
            ],
            [
             0.3333333333333333,
             "#9c179e"
            ],
            [
             0.4444444444444444,
             "#bd3786"
            ],
            [
             0.5555555555555556,
             "#d8576b"
            ],
            [
             0.6666666666666666,
             "#ed7953"
            ],
            [
             0.7777777777777778,
             "#fb9f3a"
            ],
            [
             0.8888888888888888,
             "#fdca26"
            ],
            [
             1,
             "#f0f921"
            ]
           ]
          },
          "colorway": [
           "#636efa",
           "#EF553B",
           "#00cc96",
           "#ab63fa",
           "#FFA15A",
           "#19d3f3",
           "#FF6692",
           "#B6E880",
           "#FF97FF",
           "#FECB52"
          ],
          "font": {
           "color": "#2a3f5f"
          },
          "geo": {
           "bgcolor": "white",
           "lakecolor": "white",
           "landcolor": "#E5ECF6",
           "showlakes": true,
           "showland": true,
           "subunitcolor": "white"
          },
          "hoverlabel": {
           "align": "left"
          },
          "hovermode": "closest",
          "mapbox": {
           "style": "light"
          },
          "paper_bgcolor": "white",
          "plot_bgcolor": "#E5ECF6",
          "polar": {
           "angularaxis": {
            "gridcolor": "white",
            "linecolor": "white",
            "ticks": ""
           },
           "bgcolor": "#E5ECF6",
           "radialaxis": {
            "gridcolor": "white",
            "linecolor": "white",
            "ticks": ""
           }
          },
          "scene": {
           "xaxis": {
            "backgroundcolor": "#E5ECF6",
            "gridcolor": "white",
            "gridwidth": 2,
            "linecolor": "white",
            "showbackground": true,
            "ticks": "",
            "zerolinecolor": "white"
           },
           "yaxis": {
            "backgroundcolor": "#E5ECF6",
            "gridcolor": "white",
            "gridwidth": 2,
            "linecolor": "white",
            "showbackground": true,
            "ticks": "",
            "zerolinecolor": "white"
           },
           "zaxis": {
            "backgroundcolor": "#E5ECF6",
            "gridcolor": "white",
            "gridwidth": 2,
            "linecolor": "white",
            "showbackground": true,
            "ticks": "",
            "zerolinecolor": "white"
           }
          },
          "shapedefaults": {
           "line": {
            "color": "#2a3f5f"
           }
          },
          "ternary": {
           "aaxis": {
            "gridcolor": "white",
            "linecolor": "white",
            "ticks": ""
           },
           "baxis": {
            "gridcolor": "white",
            "linecolor": "white",
            "ticks": ""
           },
           "bgcolor": "#E5ECF6",
           "caxis": {
            "gridcolor": "white",
            "linecolor": "white",
            "ticks": ""
           }
          },
          "title": {
           "x": 0.05
          },
          "xaxis": {
           "automargin": true,
           "gridcolor": "white",
           "linecolor": "white",
           "ticks": "",
           "title": {
            "standoff": 15
           },
           "zerolinecolor": "white",
           "zerolinewidth": 2
          },
          "yaxis": {
           "automargin": true,
           "gridcolor": "white",
           "linecolor": "white",
           "ticks": "",
           "title": {
            "standoff": 15
           },
           "zerolinecolor": "white",
           "zerolinewidth": 2
          }
         }
        },
        "title": {
         "font": {
          "size": 20
         },
         "text": "Total de produtos vendidos Por Cliente",
         "x": 0.37,
         "xanchor": "center",
         "yanchor": "top"
        },
        "xaxis": {
         "anchor": "y",
         "domain": [
          0,
          1
         ],
         "title": {
          "text": "Quantidade"
         }
        },
        "yaxis": {
         "anchor": "x",
         "categoryarray": [
          "ASSOC BENEF EVANG DE JOINVILLE",
          "UNIMED DE JOINVILLE COOP  DE TRAB MEDICO",
          "UNIMED DE TUBARAO COOP  DE TRAB MEDICO DA REG",
          "ASS DE CARIDADE S VICENTE DE PAULO",
          "DIGEST ENDOSCOPIA E FISIOLOGIA DIGESTIVA LTDA",
          "UNIMED CHAPECO - COOP DE TRAB MED REG OESTE CATARINENSE",
          "UNIMED GRANDE FLORIANOPOLIS - COOP  DE TRAB MEDICO",
          "ASSOC HOSP SAO JOSE DE JARAGUA DO SUL",
          "ASSOC FRANCO BRASILEIRA",
          "HOSPITAL BAIA SUL S/A"
         ],
         "categoryorder": "array",
         "domain": [
          0,
          1
         ],
         "showticklabels": false,
         "title": {
          "text": "Nome"
         },
         "visible": false
        }
       }
      }
     },
     "metadata": {},
     "output_type": "display_data"
    }
   ],
   "source": [
    "df_top_clientes = df_filtrado.groupby('Nome')['Quantidade'].count().reset_index().sort_values(by='Quantidade',ascending=False)\n",
    "\n",
    "fig = px.funnel(df_top_clientes.head(10),x='Quantidade',y='Nome',color='Nome')\n",
    "\n",
    "fig = fig.update_layout(title={\n",
    "        \"text\": \"Total de produtos vendidos Por Cliente\",\n",
    "        \"x\": 0.37,  \n",
    "        \"xanchor\": \"center\",\n",
    "        \"yanchor\": \"top\",\n",
    "        \"font\": {\"size\": 20}  \n",
    "    }).update_yaxes(showticklabels=False,visible=False,categoryarray=df_top_clientes['Nome'].head(10).to_list())\n",
    "\n",
    "\n",
    "fig.show()"
   ]
  },
  {
   "cell_type": "markdown",
   "metadata": {},
   "source": [
    "2 - Maior Faturamento por cliente em 2024"
   ]
  },
  {
   "cell_type": "code",
   "execution_count": 8,
   "metadata": {},
   "outputs": [
    {
     "data": {
      "application/vnd.plotly.v1+json": {
       "config": {
        "plotlyServerURL": "https://plot.ly"
       },
       "data": [
        {
         "hovertemplate": "Nome=%{y}<br>Vlr.Total=%{x}<extra></extra>",
         "legendgroup": "ASSOC BENEF EVANG DE JOINVILLE",
         "marker": {
          "color": "#636efa"
         },
         "name": "ASSOC BENEF EVANG DE JOINVILLE",
         "orientation": "h",
         "showlegend": true,
         "type": "funnel",
         "x": {
          "bdata": "FiMEAA==",
          "dtype": "i4"
         },
         "xaxis": "x",
         "y": [
          "ASSOC BENEF EVANG DE JOINVILLE"
         ],
         "yaxis": "y"
        },
        {
         "hovertemplate": "Nome=%{y}<br>Vlr.Total=%{x}<extra></extra>",
         "legendgroup": "UNIMED DE JOINVILLE COOP  DE TRAB MEDICO",
         "marker": {
          "color": "#EF553B"
         },
         "name": "UNIMED DE JOINVILLE COOP  DE TRAB MEDICO",
         "orientation": "h",
         "showlegend": true,
         "type": "funnel",
         "x": {
          "bdata": "2DoDAA==",
          "dtype": "i4"
         },
         "xaxis": "x",
         "y": [
          "UNIMED DE JOINVILLE COOP  DE TRAB MEDICO"
         ],
         "yaxis": "y"
        },
        {
         "hovertemplate": "Nome=%{y}<br>Vlr.Total=%{x}<extra></extra>",
         "legendgroup": "DIGEST ENDOSCOPIA E FISIOLOGIA DIGESTIVA LTDA",
         "marker": {
          "color": "#00cc96"
         },
         "name": "DIGEST ENDOSCOPIA E FISIOLOGIA DIGESTIVA LTDA",
         "orientation": "h",
         "showlegend": true,
         "type": "funnel",
         "x": {
          "bdata": "JDkDAA==",
          "dtype": "i4"
         },
         "xaxis": "x",
         "y": [
          "DIGEST ENDOSCOPIA E FISIOLOGIA DIGESTIVA LTDA"
         ],
         "yaxis": "y"
        },
        {
         "hovertemplate": "Nome=%{y}<br>Vlr.Total=%{x}<extra></extra>",
         "legendgroup": "ASS DE CARIDADE S VICENTE DE PAULO",
         "marker": {
          "color": "#ab63fa"
         },
         "name": "ASS DE CARIDADE S VICENTE DE PAULO",
         "orientation": "h",
         "showlegend": true,
         "type": "funnel",
         "x": {
          "bdata": "gy0DAA==",
          "dtype": "i4"
         },
         "xaxis": "x",
         "y": [
          "ASS DE CARIDADE S VICENTE DE PAULO"
         ],
         "yaxis": "y"
        },
        {
         "hovertemplate": "Nome=%{y}<br>Vlr.Total=%{x}<extra></extra>",
         "legendgroup": "ASSOC HOSP SAO JOSE DE JARAGUA DO SUL",
         "marker": {
          "color": "#FFA15A"
         },
         "name": "ASSOC HOSP SAO JOSE DE JARAGUA DO SUL",
         "orientation": "h",
         "showlegend": true,
         "type": "funnel",
         "x": {
          "bdata": "ZF0BAA==",
          "dtype": "i4"
         },
         "xaxis": "x",
         "y": [
          "ASSOC HOSP SAO JOSE DE JARAGUA DO SUL"
         ],
         "yaxis": "y"
        },
        {
         "hovertemplate": "Nome=%{y}<br>Vlr.Total=%{x}<extra></extra>",
         "legendgroup": "CENTRO DE GASTRO E END DIGESTIVA LTDA",
         "marker": {
          "color": "#19d3f3"
         },
         "name": "CENTRO DE GASTRO E END DIGESTIVA LTDA",
         "orientation": "h",
         "showlegend": true,
         "type": "funnel",
         "x": {
          "bdata": "oEsBAA==",
          "dtype": "i4"
         },
         "xaxis": "x",
         "y": [
          "CENTRO DE GASTRO E END DIGESTIVA LTDA"
         ],
         "yaxis": "y"
        },
        {
         "hovertemplate": "Nome=%{y}<br>Vlr.Total=%{x}<extra></extra>",
         "legendgroup": "UNIMED CHAPECO - COOP DE TRAB MED REG OESTE CATARINENSE",
         "marker": {
          "color": "#FF6692"
         },
         "name": "UNIMED CHAPECO - COOP DE TRAB MED REG OESTE CATARINENSE",
         "orientation": "h",
         "showlegend": true,
         "type": "funnel",
         "x": {
          "bdata": "gUUBAA==",
          "dtype": "i4"
         },
         "xaxis": "x",
         "y": [
          "UNIMED CHAPECO - COOP DE TRAB MED REG OESTE CATARINENSE"
         ],
         "yaxis": "y"
        },
        {
         "hovertemplate": "Nome=%{y}<br>Vlr.Total=%{x}<extra></extra>",
         "legendgroup": "CLINI COLON - CLINICA CIRURGICA E COLOPROCTOLOGICA LTDA",
         "marker": {
          "color": "#B6E880"
         },
         "name": "CLINI COLON - CLINICA CIRURGICA E COLOPROCTOLOGICA LTDA",
         "orientation": "h",
         "showlegend": true,
         "type": "funnel",
         "x": {
          "bdata": "6UQBAA==",
          "dtype": "i4"
         },
         "xaxis": "x",
         "y": [
          "CLINI COLON - CLINICA CIRURGICA E COLOPROCTOLOGICA LTDA"
         ],
         "yaxis": "y"
        },
        {
         "hovertemplate": "Nome=%{y}<br>Vlr.Total=%{x}<extra></extra>",
         "legendgroup": "UNIMED GRANDE FLORIANOPOLIS - COOP  DE TRAB MEDICO",
         "marker": {
          "color": "#FF97FF"
         },
         "name": "UNIMED GRANDE FLORIANOPOLIS - COOP  DE TRAB MEDICO",
         "orientation": "h",
         "showlegend": true,
         "type": "funnel",
         "x": {
          "bdata": "8DMBAA==",
          "dtype": "i4"
         },
         "xaxis": "x",
         "y": [
          "UNIMED GRANDE FLORIANOPOLIS - COOP  DE TRAB MEDICO"
         ],
         "yaxis": "y"
        },
        {
         "hovertemplate": "Nome=%{y}<br>Vlr.Total=%{x}<extra></extra>",
         "legendgroup": "HOSPITAL BAIA SUL S/A",
         "marker": {
          "color": "#FECB52"
         },
         "name": "HOSPITAL BAIA SUL S/A",
         "orientation": "h",
         "showlegend": true,
         "type": "funnel",
         "x": {
          "bdata": "xjABAA==",
          "dtype": "i4"
         },
         "xaxis": "x",
         "y": [
          "HOSPITAL BAIA SUL S/A"
         ],
         "yaxis": "y"
        }
       ],
       "layout": {
        "legend": {
         "title": {
          "text": "Nome"
         },
         "tracegroupgap": 0
        },
        "margin": {
         "t": 60
        },
        "template": {
         "data": {
          "bar": [
           {
            "error_x": {
             "color": "#2a3f5f"
            },
            "error_y": {
             "color": "#2a3f5f"
            },
            "marker": {
             "line": {
              "color": "#E5ECF6",
              "width": 0.5
             },
             "pattern": {
              "fillmode": "overlay",
              "size": 10,
              "solidity": 0.2
             }
            },
            "type": "bar"
           }
          ],
          "barpolar": [
           {
            "marker": {
             "line": {
              "color": "#E5ECF6",
              "width": 0.5
             },
             "pattern": {
              "fillmode": "overlay",
              "size": 10,
              "solidity": 0.2
             }
            },
            "type": "barpolar"
           }
          ],
          "carpet": [
           {
            "aaxis": {
             "endlinecolor": "#2a3f5f",
             "gridcolor": "white",
             "linecolor": "white",
             "minorgridcolor": "white",
             "startlinecolor": "#2a3f5f"
            },
            "baxis": {
             "endlinecolor": "#2a3f5f",
             "gridcolor": "white",
             "linecolor": "white",
             "minorgridcolor": "white",
             "startlinecolor": "#2a3f5f"
            },
            "type": "carpet"
           }
          ],
          "choropleth": [
           {
            "colorbar": {
             "outlinewidth": 0,
             "ticks": ""
            },
            "type": "choropleth"
           }
          ],
          "contour": [
           {
            "colorbar": {
             "outlinewidth": 0,
             "ticks": ""
            },
            "colorscale": [
             [
              0,
              "#0d0887"
             ],
             [
              0.1111111111111111,
              "#46039f"
             ],
             [
              0.2222222222222222,
              "#7201a8"
             ],
             [
              0.3333333333333333,
              "#9c179e"
             ],
             [
              0.4444444444444444,
              "#bd3786"
             ],
             [
              0.5555555555555556,
              "#d8576b"
             ],
             [
              0.6666666666666666,
              "#ed7953"
             ],
             [
              0.7777777777777778,
              "#fb9f3a"
             ],
             [
              0.8888888888888888,
              "#fdca26"
             ],
             [
              1,
              "#f0f921"
             ]
            ],
            "type": "contour"
           }
          ],
          "contourcarpet": [
           {
            "colorbar": {
             "outlinewidth": 0,
             "ticks": ""
            },
            "type": "contourcarpet"
           }
          ],
          "heatmap": [
           {
            "colorbar": {
             "outlinewidth": 0,
             "ticks": ""
            },
            "colorscale": [
             [
              0,
              "#0d0887"
             ],
             [
              0.1111111111111111,
              "#46039f"
             ],
             [
              0.2222222222222222,
              "#7201a8"
             ],
             [
              0.3333333333333333,
              "#9c179e"
             ],
             [
              0.4444444444444444,
              "#bd3786"
             ],
             [
              0.5555555555555556,
              "#d8576b"
             ],
             [
              0.6666666666666666,
              "#ed7953"
             ],
             [
              0.7777777777777778,
              "#fb9f3a"
             ],
             [
              0.8888888888888888,
              "#fdca26"
             ],
             [
              1,
              "#f0f921"
             ]
            ],
            "type": "heatmap"
           }
          ],
          "histogram": [
           {
            "marker": {
             "pattern": {
              "fillmode": "overlay",
              "size": 10,
              "solidity": 0.2
             }
            },
            "type": "histogram"
           }
          ],
          "histogram2d": [
           {
            "colorbar": {
             "outlinewidth": 0,
             "ticks": ""
            },
            "colorscale": [
             [
              0,
              "#0d0887"
             ],
             [
              0.1111111111111111,
              "#46039f"
             ],
             [
              0.2222222222222222,
              "#7201a8"
             ],
             [
              0.3333333333333333,
              "#9c179e"
             ],
             [
              0.4444444444444444,
              "#bd3786"
             ],
             [
              0.5555555555555556,
              "#d8576b"
             ],
             [
              0.6666666666666666,
              "#ed7953"
             ],
             [
              0.7777777777777778,
              "#fb9f3a"
             ],
             [
              0.8888888888888888,
              "#fdca26"
             ],
             [
              1,
              "#f0f921"
             ]
            ],
            "type": "histogram2d"
           }
          ],
          "histogram2dcontour": [
           {
            "colorbar": {
             "outlinewidth": 0,
             "ticks": ""
            },
            "colorscale": [
             [
              0,
              "#0d0887"
             ],
             [
              0.1111111111111111,
              "#46039f"
             ],
             [
              0.2222222222222222,
              "#7201a8"
             ],
             [
              0.3333333333333333,
              "#9c179e"
             ],
             [
              0.4444444444444444,
              "#bd3786"
             ],
             [
              0.5555555555555556,
              "#d8576b"
             ],
             [
              0.6666666666666666,
              "#ed7953"
             ],
             [
              0.7777777777777778,
              "#fb9f3a"
             ],
             [
              0.8888888888888888,
              "#fdca26"
             ],
             [
              1,
              "#f0f921"
             ]
            ],
            "type": "histogram2dcontour"
           }
          ],
          "mesh3d": [
           {
            "colorbar": {
             "outlinewidth": 0,
             "ticks": ""
            },
            "type": "mesh3d"
           }
          ],
          "parcoords": [
           {
            "line": {
             "colorbar": {
              "outlinewidth": 0,
              "ticks": ""
             }
            },
            "type": "parcoords"
           }
          ],
          "pie": [
           {
            "automargin": true,
            "type": "pie"
           }
          ],
          "scatter": [
           {
            "fillpattern": {
             "fillmode": "overlay",
             "size": 10,
             "solidity": 0.2
            },
            "type": "scatter"
           }
          ],
          "scatter3d": [
           {
            "line": {
             "colorbar": {
              "outlinewidth": 0,
              "ticks": ""
             }
            },
            "marker": {
             "colorbar": {
              "outlinewidth": 0,
              "ticks": ""
             }
            },
            "type": "scatter3d"
           }
          ],
          "scattercarpet": [
           {
            "marker": {
             "colorbar": {
              "outlinewidth": 0,
              "ticks": ""
             }
            },
            "type": "scattercarpet"
           }
          ],
          "scattergeo": [
           {
            "marker": {
             "colorbar": {
              "outlinewidth": 0,
              "ticks": ""
             }
            },
            "type": "scattergeo"
           }
          ],
          "scattergl": [
           {
            "marker": {
             "colorbar": {
              "outlinewidth": 0,
              "ticks": ""
             }
            },
            "type": "scattergl"
           }
          ],
          "scattermap": [
           {
            "marker": {
             "colorbar": {
              "outlinewidth": 0,
              "ticks": ""
             }
            },
            "type": "scattermap"
           }
          ],
          "scattermapbox": [
           {
            "marker": {
             "colorbar": {
              "outlinewidth": 0,
              "ticks": ""
             }
            },
            "type": "scattermapbox"
           }
          ],
          "scatterpolar": [
           {
            "marker": {
             "colorbar": {
              "outlinewidth": 0,
              "ticks": ""
             }
            },
            "type": "scatterpolar"
           }
          ],
          "scatterpolargl": [
           {
            "marker": {
             "colorbar": {
              "outlinewidth": 0,
              "ticks": ""
             }
            },
            "type": "scatterpolargl"
           }
          ],
          "scatterternary": [
           {
            "marker": {
             "colorbar": {
              "outlinewidth": 0,
              "ticks": ""
             }
            },
            "type": "scatterternary"
           }
          ],
          "surface": [
           {
            "colorbar": {
             "outlinewidth": 0,
             "ticks": ""
            },
            "colorscale": [
             [
              0,
              "#0d0887"
             ],
             [
              0.1111111111111111,
              "#46039f"
             ],
             [
              0.2222222222222222,
              "#7201a8"
             ],
             [
              0.3333333333333333,
              "#9c179e"
             ],
             [
              0.4444444444444444,
              "#bd3786"
             ],
             [
              0.5555555555555556,
              "#d8576b"
             ],
             [
              0.6666666666666666,
              "#ed7953"
             ],
             [
              0.7777777777777778,
              "#fb9f3a"
             ],
             [
              0.8888888888888888,
              "#fdca26"
             ],
             [
              1,
              "#f0f921"
             ]
            ],
            "type": "surface"
           }
          ],
          "table": [
           {
            "cells": {
             "fill": {
              "color": "#EBF0F8"
             },
             "line": {
              "color": "white"
             }
            },
            "header": {
             "fill": {
              "color": "#C8D4E3"
             },
             "line": {
              "color": "white"
             }
            },
            "type": "table"
           }
          ]
         },
         "layout": {
          "annotationdefaults": {
           "arrowcolor": "#2a3f5f",
           "arrowhead": 0,
           "arrowwidth": 1
          },
          "autotypenumbers": "strict",
          "coloraxis": {
           "colorbar": {
            "outlinewidth": 0,
            "ticks": ""
           }
          },
          "colorscale": {
           "diverging": [
            [
             0,
             "#8e0152"
            ],
            [
             0.1,
             "#c51b7d"
            ],
            [
             0.2,
             "#de77ae"
            ],
            [
             0.3,
             "#f1b6da"
            ],
            [
             0.4,
             "#fde0ef"
            ],
            [
             0.5,
             "#f7f7f7"
            ],
            [
             0.6,
             "#e6f5d0"
            ],
            [
             0.7,
             "#b8e186"
            ],
            [
             0.8,
             "#7fbc41"
            ],
            [
             0.9,
             "#4d9221"
            ],
            [
             1,
             "#276419"
            ]
           ],
           "sequential": [
            [
             0,
             "#0d0887"
            ],
            [
             0.1111111111111111,
             "#46039f"
            ],
            [
             0.2222222222222222,
             "#7201a8"
            ],
            [
             0.3333333333333333,
             "#9c179e"
            ],
            [
             0.4444444444444444,
             "#bd3786"
            ],
            [
             0.5555555555555556,
             "#d8576b"
            ],
            [
             0.6666666666666666,
             "#ed7953"
            ],
            [
             0.7777777777777778,
             "#fb9f3a"
            ],
            [
             0.8888888888888888,
             "#fdca26"
            ],
            [
             1,
             "#f0f921"
            ]
           ],
           "sequentialminus": [
            [
             0,
             "#0d0887"
            ],
            [
             0.1111111111111111,
             "#46039f"
            ],
            [
             0.2222222222222222,
             "#7201a8"
            ],
            [
             0.3333333333333333,
             "#9c179e"
            ],
            [
             0.4444444444444444,
             "#bd3786"
            ],
            [
             0.5555555555555556,
             "#d8576b"
            ],
            [
             0.6666666666666666,
             "#ed7953"
            ],
            [
             0.7777777777777778,
             "#fb9f3a"
            ],
            [
             0.8888888888888888,
             "#fdca26"
            ],
            [
             1,
             "#f0f921"
            ]
           ]
          },
          "colorway": [
           "#636efa",
           "#EF553B",
           "#00cc96",
           "#ab63fa",
           "#FFA15A",
           "#19d3f3",
           "#FF6692",
           "#B6E880",
           "#FF97FF",
           "#FECB52"
          ],
          "font": {
           "color": "#2a3f5f"
          },
          "geo": {
           "bgcolor": "white",
           "lakecolor": "white",
           "landcolor": "#E5ECF6",
           "showlakes": true,
           "showland": true,
           "subunitcolor": "white"
          },
          "hoverlabel": {
           "align": "left"
          },
          "hovermode": "closest",
          "mapbox": {
           "style": "light"
          },
          "paper_bgcolor": "white",
          "plot_bgcolor": "#E5ECF6",
          "polar": {
           "angularaxis": {
            "gridcolor": "white",
            "linecolor": "white",
            "ticks": ""
           },
           "bgcolor": "#E5ECF6",
           "radialaxis": {
            "gridcolor": "white",
            "linecolor": "white",
            "ticks": ""
           }
          },
          "scene": {
           "xaxis": {
            "backgroundcolor": "#E5ECF6",
            "gridcolor": "white",
            "gridwidth": 2,
            "linecolor": "white",
            "showbackground": true,
            "ticks": "",
            "zerolinecolor": "white"
           },
           "yaxis": {
            "backgroundcolor": "#E5ECF6",
            "gridcolor": "white",
            "gridwidth": 2,
            "linecolor": "white",
            "showbackground": true,
            "ticks": "",
            "zerolinecolor": "white"
           },
           "zaxis": {
            "backgroundcolor": "#E5ECF6",
            "gridcolor": "white",
            "gridwidth": 2,
            "linecolor": "white",
            "showbackground": true,
            "ticks": "",
            "zerolinecolor": "white"
           }
          },
          "shapedefaults": {
           "line": {
            "color": "#2a3f5f"
           }
          },
          "ternary": {
           "aaxis": {
            "gridcolor": "white",
            "linecolor": "white",
            "ticks": ""
           },
           "baxis": {
            "gridcolor": "white",
            "linecolor": "white",
            "ticks": ""
           },
           "bgcolor": "#E5ECF6",
           "caxis": {
            "gridcolor": "white",
            "linecolor": "white",
            "ticks": ""
           }
          },
          "title": {
           "x": 0.05
          },
          "xaxis": {
           "automargin": true,
           "gridcolor": "white",
           "linecolor": "white",
           "ticks": "",
           "title": {
            "standoff": 15
           },
           "zerolinecolor": "white",
           "zerolinewidth": 2
          },
          "yaxis": {
           "automargin": true,
           "gridcolor": "white",
           "linecolor": "white",
           "ticks": "",
           "title": {
            "standoff": 15
           },
           "zerolinecolor": "white",
           "zerolinewidth": 2
          }
         }
        },
        "title": {
         "font": {
          "size": 20
         },
         "text": "Faturamento Total Por Clientes",
         "x": 0.37,
         "xanchor": "center",
         "yanchor": "top"
        },
        "xaxis": {
         "anchor": "y",
         "domain": [
          0,
          1
         ],
         "title": {
          "text": "Vlr.Total"
         }
        },
        "yaxis": {
         "anchor": "x",
         "categoryarray": [
          "ASSOC BENEF EVANG DE JOINVILLE",
          "UNIMED DE JOINVILLE COOP  DE TRAB MEDICO",
          "DIGEST ENDOSCOPIA E FISIOLOGIA DIGESTIVA LTDA",
          "ASS DE CARIDADE S VICENTE DE PAULO",
          "ASSOC HOSP SAO JOSE DE JARAGUA DO SUL",
          "CENTRO DE GASTRO E END DIGESTIVA LTDA",
          "UNIMED CHAPECO - COOP DE TRAB MED REG OESTE CATARINENSE",
          "CLINI COLON - CLINICA CIRURGICA E COLOPROCTOLOGICA LTDA",
          "UNIMED GRANDE FLORIANOPOLIS - COOP  DE TRAB MEDICO",
          "HOSPITAL BAIA SUL S/A"
         ],
         "categoryorder": "array",
         "domain": [
          0,
          1
         ],
         "showticklabels": false,
         "title": {
          "text": "Nome"
         },
         "visible": false
        }
       }
      }
     },
     "metadata": {},
     "output_type": "display_data"
    }
   ],
   "source": [
    "df_top_clientes_vendas = df_filtrado.groupby('Nome')['Vlr.Total'].sum().reset_index().sort_values(by='Vlr.Total',ascending=False)\n",
    "df_top_clientes_vendas['Vlr.Total'] = df_top_clientes_vendas['Vlr.Total'].astype('int64')\n",
    "\n",
    "fig = px.funnel(df_top_clientes_vendas.head(10),x='Vlr.Total',y='Nome',color='Nome')\n",
    "fig = fig.update_layout(title={\n",
    "        \"text\": \"Faturamento Total Por Clientes\",\n",
    "        \"x\": 0.37,  \n",
    "        \"xanchor\": \"center\",\n",
    "        \"yanchor\": \"top\",\n",
    "        \"font\": {\"size\": 20}}).update_yaxes(showticklabels=False,visible=False,categoryarray=df_top_clientes_vendas['Nome'].head(10).to_list())\n",
    "\n",
    "\n",
    "fig.show()\n"
   ]
  },
  {
   "cell_type": "markdown",
   "metadata": {},
   "source": [
    "Material foco 2024:\n",
    "\n",
    "O material mais faturado em 2024 "
   ]
  },
  {
   "cell_type": "code",
   "execution_count": 9,
   "metadata": {},
   "outputs": [
    {
     "data": {
      "application/vnd.plotly.v1+json": {
       "config": {
        "plotlyServerURL": "https://plot.ly"
       },
       "data": [
        {
         "cliponaxis": false,
         "hovertemplate": "Descricao=%{y}<br>value=%{x}<br>Texto=%{text}<extra></extra>",
         "legendgroup": "PEG-24-PULL-I-S",
         "marker": {
          "color": "#636efa"
         },
         "name": "PEG-24-PULL-I-S",
         "orientation": "h",
         "showlegend": true,
         "text": [
          "Qntd.: 361<br>R$ 212.531,45"
         ],
         "textfont": {
          "family": "Helvetica Bold",
          "size": 200
         },
         "textposition": "inside",
         "texttemplate": "%{text}",
         "type": "funnel",
         "x": {
          "bdata": "aQE=",
          "dtype": "i2"
         },
         "xaxis": "x",
         "y": [
          "PEG-24-PULL-I-S"
         ],
         "yaxis": "y"
        },
        {
         "cliponaxis": false,
         "hovertemplate": "Descricao=%{y}<br>value=%{x}<br>Texto=%{text}<extra></extra>",
         "legendgroup": "MBL-6-F",
         "marker": {
          "color": "#EF553B"
         },
         "name": "MBL-6-F",
         "orientation": "h",
         "showlegend": true,
         "text": [
          "Qntd.: 226<br>R$ 180.082,12"
         ],
         "textfont": {
          "family": "Helvetica Bold",
          "size": 200
         },
         "textposition": "inside",
         "texttemplate": "%{text}",
         "type": "funnel",
         "x": {
          "bdata": "4gA=",
          "dtype": "i2"
         },
         "xaxis": "x",
         "y": [
          "MBL-6-F"
         ],
         "yaxis": "y"
        },
        {
         "cliponaxis": false,
         "hovertemplate": "Descricao=%{y}<br>value=%{x}<br>Texto=%{text}<extra></extra>",
         "legendgroup": "AS-1-S",
         "marker": {
          "color": "#00cc96"
         },
         "name": "AS-1-S",
         "orientation": "h",
         "showlegend": true,
         "text": [
          "Qntd.: 211<br>R$ 24.168,00"
         ],
         "textfont": {
          "family": "Helvetica Bold",
          "size": 200
         },
         "textposition": "inside",
         "texttemplate": "%{text}",
         "type": "funnel",
         "x": {
          "bdata": "0wA=",
          "dtype": "i2"
         },
         "xaxis": "x",
         "y": [
          "AS-1-S"
         ],
         "yaxis": "y"
        },
        {
         "cliponaxis": false,
         "hovertemplate": "Descricao=%{y}<br>value=%{x}<br>Texto=%{text}<extra></extra>",
         "legendgroup": "SASMM-1-S",
         "marker": {
          "color": "#ab63fa"
         },
         "name": "SASMM-1-S",
         "orientation": "h",
         "showlegend": true,
         "text": [
          "Qntd.: 205<br>R$ 21.910,00"
         ],
         "textfont": {
          "family": "Helvetica Bold",
          "size": 200
         },
         "textposition": "inside",
         "texttemplate": "%{text}",
         "type": "funnel",
         "x": {
          "bdata": "zQA=",
          "dtype": "i2"
         },
         "xaxis": "x",
         "y": [
          "SASMM-1-S"
         ],
         "yaxis": "y"
        },
        {
         "cliponaxis": false,
         "hovertemplate": "Descricao=%{y}<br>value=%{x}<br>Texto=%{text}<extra></extra>",
         "legendgroup": "LDVI-23-240",
         "marker": {
          "color": "#FFA15A"
         },
         "name": "LDVI-23-240",
         "orientation": "h",
         "showlegend": true,
         "text": [
          "Qntd.: 192<br>R$ 48.904,00"
         ],
         "textfont": {
          "family": "Helvetica Bold",
          "size": 200
         },
         "textposition": "inside",
         "texttemplate": "%{text}",
         "type": "funnel",
         "x": {
          "bdata": "wAA=",
          "dtype": "i2"
         },
         "xaxis": "x",
         "y": [
          "LDVI-23-240"
         ],
         "yaxis": "y"
        },
        {
         "cliponaxis": false,
         "hovertemplate": "Descricao=%{y}<br>value=%{x}<br>Texto=%{text}<extra></extra>",
         "legendgroup": "METII-35-480",
         "marker": {
          "color": "#19d3f3"
         },
         "name": "METII-35-480",
         "orientation": "h",
         "showlegend": true,
         "text": [
          "Qntd.: 183<br>R$ 134.996,36"
         ],
         "textfont": {
          "family": "Helvetica Bold",
          "size": 200
         },
         "textposition": "inside",
         "texttemplate": "%{text}",
         "type": "funnel",
         "x": {
          "bdata": "twA=",
          "dtype": "i2"
         },
         "xaxis": "x",
         "y": [
          "METII-35-480"
         ],
         "yaxis": "y"
        },
        {
         "cliponaxis": false,
         "hovertemplate": "Descricao=%{y}<br>value=%{x}<br>Texto=%{text}<extra></extra>",
         "legendgroup": "INSC-P-7-230-S",
         "marker": {
          "color": "#FF6692"
         },
         "name": "INSC-P-7-230-S",
         "orientation": "h",
         "showlegend": true,
         "text": [
          "Qntd.: 179<br>R$ 122.360,00"
         ],
         "textfont": {
          "family": "Helvetica Bold",
          "size": 200
         },
         "textposition": "inside",
         "texttemplate": "%{text}",
         "type": "funnel",
         "x": {
          "bdata": "swA=",
          "dtype": "i2"
         },
         "xaxis": "x",
         "y": [
          "INSC-P-7-230-S"
         ],
         "yaxis": "y"
        },
        {
         "cliponaxis": false,
         "hovertemplate": "Descricao=%{y}<br>value=%{x}<br>Texto=%{text}<extra></extra>",
         "legendgroup": "ASM-1-S",
         "marker": {
          "color": "#B6E880"
         },
         "name": "ASM-1-S",
         "orientation": "h",
         "showlegend": true,
         "text": [
          "Qntd.: 175<br>R$ 18.615,00"
         ],
         "textfont": {
          "family": "Helvetica Bold",
          "size": 200
         },
         "textposition": "inside",
         "texttemplate": "%{text}",
         "type": "funnel",
         "x": {
          "bdata": "rwA=",
          "dtype": "i2"
         },
         "xaxis": "x",
         "y": [
          "ASM-1-S"
         ],
         "yaxis": "y"
        },
        {
         "cliponaxis": false,
         "hovertemplate": "Descricao=%{y}<br>value=%{x}<br>Texto=%{text}<extra></extra>",
         "legendgroup": "TXR-8.5-12-15-A",
         "marker": {
          "color": "#FF97FF"
         },
         "name": "TXR-8.5-12-15-A",
         "orientation": "h",
         "showlegend": true,
         "text": [
          "Qntd.: 170<br>R$ 134.140,78"
         ],
         "textfont": {
          "family": "Helvetica Bold",
          "size": 200
         },
         "textposition": "inside",
         "texttemplate": "%{text}",
         "type": "funnel",
         "x": {
          "bdata": "qgA=",
          "dtype": "i2"
         },
         "xaxis": "x",
         "y": [
          "TXR-8.5-12-15-A"
         ],
         "yaxis": "y"
        },
        {
         "cliponaxis": false,
         "hovertemplate": "Descricao=%{y}<br>value=%{x}<br>Texto=%{text}<extra></extra>",
         "legendgroup": "TRI-20",
         "marker": {
          "color": "#FECB52"
         },
         "name": "TRI-20",
         "orientation": "h",
         "showlegend": true,
         "text": [
          "Qntd.: 151<br>R$ 125.687,75"
         ],
         "textfont": {
          "family": "Helvetica Bold",
          "size": 200
         },
         "textposition": "inside",
         "texttemplate": "%{text}",
         "type": "funnel",
         "x": {
          "bdata": "lwA=",
          "dtype": "i2"
         },
         "xaxis": "x",
         "y": [
          "TRI-20"
         ],
         "yaxis": "y"
        }
       ],
       "layout": {
        "height": 580,
        "legend": {
         "title": {
          "text": "Descricao"
         },
         "tracegroupgap": 0
        },
        "margin": {
         "b": 40,
         "l": 40,
         "r": 40,
         "t": 40
        },
        "template": {
         "data": {
          "bar": [
           {
            "error_x": {
             "color": "#2a3f5f"
            },
            "error_y": {
             "color": "#2a3f5f"
            },
            "marker": {
             "line": {
              "color": "#E5ECF6",
              "width": 0.5
             },
             "pattern": {
              "fillmode": "overlay",
              "size": 10,
              "solidity": 0.2
             }
            },
            "type": "bar"
           }
          ],
          "barpolar": [
           {
            "marker": {
             "line": {
              "color": "#E5ECF6",
              "width": 0.5
             },
             "pattern": {
              "fillmode": "overlay",
              "size": 10,
              "solidity": 0.2
             }
            },
            "type": "barpolar"
           }
          ],
          "carpet": [
           {
            "aaxis": {
             "endlinecolor": "#2a3f5f",
             "gridcolor": "white",
             "linecolor": "white",
             "minorgridcolor": "white",
             "startlinecolor": "#2a3f5f"
            },
            "baxis": {
             "endlinecolor": "#2a3f5f",
             "gridcolor": "white",
             "linecolor": "white",
             "minorgridcolor": "white",
             "startlinecolor": "#2a3f5f"
            },
            "type": "carpet"
           }
          ],
          "choropleth": [
           {
            "colorbar": {
             "outlinewidth": 0,
             "ticks": ""
            },
            "type": "choropleth"
           }
          ],
          "contour": [
           {
            "colorbar": {
             "outlinewidth": 0,
             "ticks": ""
            },
            "colorscale": [
             [
              0,
              "#0d0887"
             ],
             [
              0.1111111111111111,
              "#46039f"
             ],
             [
              0.2222222222222222,
              "#7201a8"
             ],
             [
              0.3333333333333333,
              "#9c179e"
             ],
             [
              0.4444444444444444,
              "#bd3786"
             ],
             [
              0.5555555555555556,
              "#d8576b"
             ],
             [
              0.6666666666666666,
              "#ed7953"
             ],
             [
              0.7777777777777778,
              "#fb9f3a"
             ],
             [
              0.8888888888888888,
              "#fdca26"
             ],
             [
              1,
              "#f0f921"
             ]
            ],
            "type": "contour"
           }
          ],
          "contourcarpet": [
           {
            "colorbar": {
             "outlinewidth": 0,
             "ticks": ""
            },
            "type": "contourcarpet"
           }
          ],
          "heatmap": [
           {
            "colorbar": {
             "outlinewidth": 0,
             "ticks": ""
            },
            "colorscale": [
             [
              0,
              "#0d0887"
             ],
             [
              0.1111111111111111,
              "#46039f"
             ],
             [
              0.2222222222222222,
              "#7201a8"
             ],
             [
              0.3333333333333333,
              "#9c179e"
             ],
             [
              0.4444444444444444,
              "#bd3786"
             ],
             [
              0.5555555555555556,
              "#d8576b"
             ],
             [
              0.6666666666666666,
              "#ed7953"
             ],
             [
              0.7777777777777778,
              "#fb9f3a"
             ],
             [
              0.8888888888888888,
              "#fdca26"
             ],
             [
              1,
              "#f0f921"
             ]
            ],
            "type": "heatmap"
           }
          ],
          "histogram": [
           {
            "marker": {
             "pattern": {
              "fillmode": "overlay",
              "size": 10,
              "solidity": 0.2
             }
            },
            "type": "histogram"
           }
          ],
          "histogram2d": [
           {
            "colorbar": {
             "outlinewidth": 0,
             "ticks": ""
            },
            "colorscale": [
             [
              0,
              "#0d0887"
             ],
             [
              0.1111111111111111,
              "#46039f"
             ],
             [
              0.2222222222222222,
              "#7201a8"
             ],
             [
              0.3333333333333333,
              "#9c179e"
             ],
             [
              0.4444444444444444,
              "#bd3786"
             ],
             [
              0.5555555555555556,
              "#d8576b"
             ],
             [
              0.6666666666666666,
              "#ed7953"
             ],
             [
              0.7777777777777778,
              "#fb9f3a"
             ],
             [
              0.8888888888888888,
              "#fdca26"
             ],
             [
              1,
              "#f0f921"
             ]
            ],
            "type": "histogram2d"
           }
          ],
          "histogram2dcontour": [
           {
            "colorbar": {
             "outlinewidth": 0,
             "ticks": ""
            },
            "colorscale": [
             [
              0,
              "#0d0887"
             ],
             [
              0.1111111111111111,
              "#46039f"
             ],
             [
              0.2222222222222222,
              "#7201a8"
             ],
             [
              0.3333333333333333,
              "#9c179e"
             ],
             [
              0.4444444444444444,
              "#bd3786"
             ],
             [
              0.5555555555555556,
              "#d8576b"
             ],
             [
              0.6666666666666666,
              "#ed7953"
             ],
             [
              0.7777777777777778,
              "#fb9f3a"
             ],
             [
              0.8888888888888888,
              "#fdca26"
             ],
             [
              1,
              "#f0f921"
             ]
            ],
            "type": "histogram2dcontour"
           }
          ],
          "mesh3d": [
           {
            "colorbar": {
             "outlinewidth": 0,
             "ticks": ""
            },
            "type": "mesh3d"
           }
          ],
          "parcoords": [
           {
            "line": {
             "colorbar": {
              "outlinewidth": 0,
              "ticks": ""
             }
            },
            "type": "parcoords"
           }
          ],
          "pie": [
           {
            "automargin": true,
            "type": "pie"
           }
          ],
          "scatter": [
           {
            "fillpattern": {
             "fillmode": "overlay",
             "size": 10,
             "solidity": 0.2
            },
            "type": "scatter"
           }
          ],
          "scatter3d": [
           {
            "line": {
             "colorbar": {
              "outlinewidth": 0,
              "ticks": ""
             }
            },
            "marker": {
             "colorbar": {
              "outlinewidth": 0,
              "ticks": ""
             }
            },
            "type": "scatter3d"
           }
          ],
          "scattercarpet": [
           {
            "marker": {
             "colorbar": {
              "outlinewidth": 0,
              "ticks": ""
             }
            },
            "type": "scattercarpet"
           }
          ],
          "scattergeo": [
           {
            "marker": {
             "colorbar": {
              "outlinewidth": 0,
              "ticks": ""
             }
            },
            "type": "scattergeo"
           }
          ],
          "scattergl": [
           {
            "marker": {
             "colorbar": {
              "outlinewidth": 0,
              "ticks": ""
             }
            },
            "type": "scattergl"
           }
          ],
          "scattermap": [
           {
            "marker": {
             "colorbar": {
              "outlinewidth": 0,
              "ticks": ""
             }
            },
            "type": "scattermap"
           }
          ],
          "scattermapbox": [
           {
            "marker": {
             "colorbar": {
              "outlinewidth": 0,
              "ticks": ""
             }
            },
            "type": "scattermapbox"
           }
          ],
          "scatterpolar": [
           {
            "marker": {
             "colorbar": {
              "outlinewidth": 0,
              "ticks": ""
             }
            },
            "type": "scatterpolar"
           }
          ],
          "scatterpolargl": [
           {
            "marker": {
             "colorbar": {
              "outlinewidth": 0,
              "ticks": ""
             }
            },
            "type": "scatterpolargl"
           }
          ],
          "scatterternary": [
           {
            "marker": {
             "colorbar": {
              "outlinewidth": 0,
              "ticks": ""
             }
            },
            "type": "scatterternary"
           }
          ],
          "surface": [
           {
            "colorbar": {
             "outlinewidth": 0,
             "ticks": ""
            },
            "colorscale": [
             [
              0,
              "#0d0887"
             ],
             [
              0.1111111111111111,
              "#46039f"
             ],
             [
              0.2222222222222222,
              "#7201a8"
             ],
             [
              0.3333333333333333,
              "#9c179e"
             ],
             [
              0.4444444444444444,
              "#bd3786"
             ],
             [
              0.5555555555555556,
              "#d8576b"
             ],
             [
              0.6666666666666666,
              "#ed7953"
             ],
             [
              0.7777777777777778,
              "#fb9f3a"
             ],
             [
              0.8888888888888888,
              "#fdca26"
             ],
             [
              1,
              "#f0f921"
             ]
            ],
            "type": "surface"
           }
          ],
          "table": [
           {
            "cells": {
             "fill": {
              "color": "#EBF0F8"
             },
             "line": {
              "color": "white"
             }
            },
            "header": {
             "fill": {
              "color": "#C8D4E3"
             },
             "line": {
              "color": "white"
             }
            },
            "type": "table"
           }
          ]
         },
         "layout": {
          "annotationdefaults": {
           "arrowcolor": "#2a3f5f",
           "arrowhead": 0,
           "arrowwidth": 1
          },
          "autotypenumbers": "strict",
          "coloraxis": {
           "colorbar": {
            "outlinewidth": 0,
            "ticks": ""
           }
          },
          "colorscale": {
           "diverging": [
            [
             0,
             "#8e0152"
            ],
            [
             0.1,
             "#c51b7d"
            ],
            [
             0.2,
             "#de77ae"
            ],
            [
             0.3,
             "#f1b6da"
            ],
            [
             0.4,
             "#fde0ef"
            ],
            [
             0.5,
             "#f7f7f7"
            ],
            [
             0.6,
             "#e6f5d0"
            ],
            [
             0.7,
             "#b8e186"
            ],
            [
             0.8,
             "#7fbc41"
            ],
            [
             0.9,
             "#4d9221"
            ],
            [
             1,
             "#276419"
            ]
           ],
           "sequential": [
            [
             0,
             "#0d0887"
            ],
            [
             0.1111111111111111,
             "#46039f"
            ],
            [
             0.2222222222222222,
             "#7201a8"
            ],
            [
             0.3333333333333333,
             "#9c179e"
            ],
            [
             0.4444444444444444,
             "#bd3786"
            ],
            [
             0.5555555555555556,
             "#d8576b"
            ],
            [
             0.6666666666666666,
             "#ed7953"
            ],
            [
             0.7777777777777778,
             "#fb9f3a"
            ],
            [
             0.8888888888888888,
             "#fdca26"
            ],
            [
             1,
             "#f0f921"
            ]
           ],
           "sequentialminus": [
            [
             0,
             "#0d0887"
            ],
            [
             0.1111111111111111,
             "#46039f"
            ],
            [
             0.2222222222222222,
             "#7201a8"
            ],
            [
             0.3333333333333333,
             "#9c179e"
            ],
            [
             0.4444444444444444,
             "#bd3786"
            ],
            [
             0.5555555555555556,
             "#d8576b"
            ],
            [
             0.6666666666666666,
             "#ed7953"
            ],
            [
             0.7777777777777778,
             "#fb9f3a"
            ],
            [
             0.8888888888888888,
             "#fdca26"
            ],
            [
             1,
             "#f0f921"
            ]
           ]
          },
          "colorway": [
           "#636efa",
           "#EF553B",
           "#00cc96",
           "#ab63fa",
           "#FFA15A",
           "#19d3f3",
           "#FF6692",
           "#B6E880",
           "#FF97FF",
           "#FECB52"
          ],
          "font": {
           "color": "#2a3f5f"
          },
          "geo": {
           "bgcolor": "white",
           "lakecolor": "white",
           "landcolor": "#E5ECF6",
           "showlakes": true,
           "showland": true,
           "subunitcolor": "white"
          },
          "hoverlabel": {
           "align": "left"
          },
          "hovermode": "closest",
          "mapbox": {
           "style": "light"
          },
          "paper_bgcolor": "white",
          "plot_bgcolor": "#E5ECF6",
          "polar": {
           "angularaxis": {
            "gridcolor": "white",
            "linecolor": "white",
            "ticks": ""
           },
           "bgcolor": "#E5ECF6",
           "radialaxis": {
            "gridcolor": "white",
            "linecolor": "white",
            "ticks": ""
           }
          },
          "scene": {
           "xaxis": {
            "backgroundcolor": "#E5ECF6",
            "gridcolor": "white",
            "gridwidth": 2,
            "linecolor": "white",
            "showbackground": true,
            "ticks": "",
            "zerolinecolor": "white"
           },
           "yaxis": {
            "backgroundcolor": "#E5ECF6",
            "gridcolor": "white",
            "gridwidth": 2,
            "linecolor": "white",
            "showbackground": true,
            "ticks": "",
            "zerolinecolor": "white"
           },
           "zaxis": {
            "backgroundcolor": "#E5ECF6",
            "gridcolor": "white",
            "gridwidth": 2,
            "linecolor": "white",
            "showbackground": true,
            "ticks": "",
            "zerolinecolor": "white"
           }
          },
          "shapedefaults": {
           "line": {
            "color": "#2a3f5f"
           }
          },
          "ternary": {
           "aaxis": {
            "gridcolor": "white",
            "linecolor": "white",
            "ticks": ""
           },
           "baxis": {
            "gridcolor": "white",
            "linecolor": "white",
            "ticks": ""
           },
           "bgcolor": "#E5ECF6",
           "caxis": {
            "gridcolor": "white",
            "linecolor": "white",
            "ticks": ""
           }
          },
          "title": {
           "x": 0.05
          },
          "xaxis": {
           "automargin": true,
           "gridcolor": "white",
           "linecolor": "white",
           "ticks": "",
           "title": {
            "standoff": 15
           },
           "zerolinecolor": "white",
           "zerolinewidth": 2
          },
          "yaxis": {
           "automargin": true,
           "gridcolor": "white",
           "linecolor": "white",
           "ticks": "",
           "title": {
            "standoff": 15
           },
           "zerolinecolor": "white",
           "zerolinewidth": 2
          }
         }
        },
        "title": {
         "font": {
          "size": 20
         },
         "text": "Produto mais Faturado em 2024",
         "x": 0.46,
         "xanchor": "center",
         "yanchor": "top"
        },
        "width": 1400,
        "xaxis": {
         "anchor": "y",
         "domain": [
          0,
          1
         ],
         "title": {
          "text": "value"
         }
        },
        "yaxis": {
         "anchor": "x",
         "categoryarray": [
          "PEG-24-PULL-I-S",
          "MBL-6-F",
          "AS-1-S",
          "SASMM-1-S",
          "LDVI-23-240",
          "METII-35-480",
          "INSC-P-7-230-S",
          "ASM-1-S",
          "TXR-8.5-12-15-A",
          "TRI-20"
         ],
         "categoryorder": "array",
         "domain": [
          0,
          1
         ],
         "showticklabels": false,
         "title": {
          "text": "Descricao"
         },
         "visible": false
        }
       }
      }
     },
     "metadata": {},
     "output_type": "display_data"
    }
   ],
   "source": [
    "df_top_produtos = df_filtrado.groupby('Descricao')[['Quantidade','Vlr.Total']].sum().reset_index().sort_values(by='Quantidade',ascending=False)\n",
    "df_top_produtos['Texto'] = df_top_produtos.apply(\n",
    "    lambda row: f\"Qntd.: {int(row['Quantidade'])}<br>{formatar_brasileiro(row['Vlr.Total'])}\", axis=1\n",
    ")\n",
    "fig = px.funnel(df_top_produtos.head(10),x=['Quantidade'],y='Descricao',color='Descricao',text='Texto')\n",
    "fig = fig.update_layout(title={\n",
    "        \"text\": \"Produto mais Faturado em 2024\",\n",
    "        \"x\": 0.46,  \n",
    "        \"xanchor\": \"center\",\n",
    "        \"yanchor\": \"top\",\n",
    "        \"font\": {\"size\": 20}},\n",
    "        margin={\"l\": 40, \"r\": 40, \"t\": 40, \"b\": 40},  \n",
    "    height=580,  \n",
    "    width=1400,  \n",
    ").update_yaxes(showticklabels=False,visible=False,categoryarray=df_top_produtos['Descricao'].head(10).to_list())\n",
    "\n",
    "fig.update_traces(\n",
    "    texttemplate='%{text}',  \n",
    "    textposition='inside',   \n",
    "    cliponaxis=False,        \n",
    "    textfont={\"size\": 200,\"family\":\"Helvetica Bold\"},   \n",
    ")\n",
    "\n",
    "fig.show()"
   ]
  },
  {
   "cell_type": "code",
   "execution_count": 10,
   "metadata": {},
   "outputs": [
    {
     "data": {
      "application/vnd.plotly.v1+json": {
       "config": {
        "plotlyServerURL": "https://plot.ly"
       },
       "data": [
        {
         "hovertemplate": "Municipio=%{y}<br>Vlr.Total=%{x}<extra></extra>",
         "legendgroup": "CHAPECO",
         "marker": {
          "color": "#636efa"
         },
         "name": "CHAPECO",
         "orientation": "h",
         "showlegend": true,
         "type": "funnel",
         "x": {
          "bdata": "1mkBAA==",
          "dtype": "i4"
         },
         "xaxis": "x",
         "y": [
          "CHAPECO"
         ],
         "yaxis": "y"
        },
        {
         "hovertemplate": "Municipio=%{y}<br>Vlr.Total=%{x}<extra></extra>",
         "legendgroup": "LAGES",
         "marker": {
          "color": "#EF553B"
         },
         "name": "LAGES",
         "orientation": "h",
         "showlegend": true,
         "type": "funnel",
         "x": {
          "bdata": "kVEBAA==",
          "dtype": "i4"
         },
         "xaxis": "x",
         "y": [
          "LAGES"
         ],
         "yaxis": "y"
        },
        {
         "hovertemplate": "Municipio=%{y}<br>Vlr.Total=%{x}<extra></extra>",
         "legendgroup": "SAO MIGUEL DO OESTE",
         "marker": {
          "color": "#00cc96"
         },
         "name": "SAO MIGUEL DO OESTE",
         "orientation": "h",
         "showlegend": true,
         "type": "funnel",
         "x": {
          "bdata": "thwBAA==",
          "dtype": "i4"
         },
         "xaxis": "x",
         "y": [
          "SAO MIGUEL DO OESTE"
         ],
         "yaxis": "y"
        },
        {
         "hovertemplate": "Municipio=%{y}<br>Vlr.Total=%{x}<extra></extra>",
         "legendgroup": "JOACABA",
         "marker": {
          "color": "#ab63fa"
         },
         "name": "JOACABA",
         "orientation": "h",
         "showlegend": true,
         "type": "funnel",
         "x": {
          "bdata": "qPsAAA==",
          "dtype": "i4"
         },
         "xaxis": "x",
         "y": [
          "JOACABA"
         ],
         "yaxis": "y"
        },
        {
         "hovertemplate": "Municipio=%{y}<br>Vlr.Total=%{x}<extra></extra>",
         "legendgroup": "CONCORDIA",
         "marker": {
          "color": "#FFA15A"
         },
         "name": "CONCORDIA",
         "orientation": "h",
         "showlegend": true,
         "type": "funnel",
         "x": {
          "bdata": "OtMAAA==",
          "dtype": "i4"
         },
         "xaxis": "x",
         "y": [
          "CONCORDIA"
         ],
         "yaxis": "y"
        },
        {
         "hovertemplate": "Municipio=%{y}<br>Vlr.Total=%{x}<extra></extra>",
         "legendgroup": "CACADOR",
         "marker": {
          "color": "#19d3f3"
         },
         "name": "CACADOR",
         "orientation": "h",
         "showlegend": true,
         "type": "funnel",
         "x": {
          "bdata": "D8gAAA==",
          "dtype": "i4"
         },
         "xaxis": "x",
         "y": [
          "CACADOR"
         ],
         "yaxis": "y"
        },
        {
         "hovertemplate": "Municipio=%{y}<br>Vlr.Total=%{x}<extra></extra>",
         "legendgroup": "XANXERE",
         "marker": {
          "color": "#FF6692"
         },
         "name": "XANXERE",
         "orientation": "h",
         "showlegend": true,
         "type": "funnel",
         "x": {
          "bdata": "bjk=",
          "dtype": "i2"
         },
         "xaxis": "x",
         "y": [
          "XANXERE"
         ],
         "yaxis": "y"
        },
        {
         "hovertemplate": "Municipio=%{y}<br>Vlr.Total=%{x}<extra></extra>",
         "legendgroup": "VIDEIRA",
         "marker": {
          "color": "#B6E880"
         },
         "name": "VIDEIRA",
         "orientation": "h",
         "showlegend": true,
         "type": "funnel",
         "x": {
          "bdata": "XAs=",
          "dtype": "i2"
         },
         "xaxis": "x",
         "y": [
          "VIDEIRA"
         ],
         "yaxis": "y"
        }
       ],
       "layout": {
        "legend": {
         "title": {
          "text": "Municipio"
         },
         "tracegroupgap": 0
        },
        "margin": {
         "t": 60
        },
        "template": {
         "data": {
          "bar": [
           {
            "error_x": {
             "color": "#2a3f5f"
            },
            "error_y": {
             "color": "#2a3f5f"
            },
            "marker": {
             "line": {
              "color": "#E5ECF6",
              "width": 0.5
             },
             "pattern": {
              "fillmode": "overlay",
              "size": 10,
              "solidity": 0.2
             }
            },
            "type": "bar"
           }
          ],
          "barpolar": [
           {
            "marker": {
             "line": {
              "color": "#E5ECF6",
              "width": 0.5
             },
             "pattern": {
              "fillmode": "overlay",
              "size": 10,
              "solidity": 0.2
             }
            },
            "type": "barpolar"
           }
          ],
          "carpet": [
           {
            "aaxis": {
             "endlinecolor": "#2a3f5f",
             "gridcolor": "white",
             "linecolor": "white",
             "minorgridcolor": "white",
             "startlinecolor": "#2a3f5f"
            },
            "baxis": {
             "endlinecolor": "#2a3f5f",
             "gridcolor": "white",
             "linecolor": "white",
             "minorgridcolor": "white",
             "startlinecolor": "#2a3f5f"
            },
            "type": "carpet"
           }
          ],
          "choropleth": [
           {
            "colorbar": {
             "outlinewidth": 0,
             "ticks": ""
            },
            "type": "choropleth"
           }
          ],
          "contour": [
           {
            "colorbar": {
             "outlinewidth": 0,
             "ticks": ""
            },
            "colorscale": [
             [
              0,
              "#0d0887"
             ],
             [
              0.1111111111111111,
              "#46039f"
             ],
             [
              0.2222222222222222,
              "#7201a8"
             ],
             [
              0.3333333333333333,
              "#9c179e"
             ],
             [
              0.4444444444444444,
              "#bd3786"
             ],
             [
              0.5555555555555556,
              "#d8576b"
             ],
             [
              0.6666666666666666,
              "#ed7953"
             ],
             [
              0.7777777777777778,
              "#fb9f3a"
             ],
             [
              0.8888888888888888,
              "#fdca26"
             ],
             [
              1,
              "#f0f921"
             ]
            ],
            "type": "contour"
           }
          ],
          "contourcarpet": [
           {
            "colorbar": {
             "outlinewidth": 0,
             "ticks": ""
            },
            "type": "contourcarpet"
           }
          ],
          "heatmap": [
           {
            "colorbar": {
             "outlinewidth": 0,
             "ticks": ""
            },
            "colorscale": [
             [
              0,
              "#0d0887"
             ],
             [
              0.1111111111111111,
              "#46039f"
             ],
             [
              0.2222222222222222,
              "#7201a8"
             ],
             [
              0.3333333333333333,
              "#9c179e"
             ],
             [
              0.4444444444444444,
              "#bd3786"
             ],
             [
              0.5555555555555556,
              "#d8576b"
             ],
             [
              0.6666666666666666,
              "#ed7953"
             ],
             [
              0.7777777777777778,
              "#fb9f3a"
             ],
             [
              0.8888888888888888,
              "#fdca26"
             ],
             [
              1,
              "#f0f921"
             ]
            ],
            "type": "heatmap"
           }
          ],
          "histogram": [
           {
            "marker": {
             "pattern": {
              "fillmode": "overlay",
              "size": 10,
              "solidity": 0.2
             }
            },
            "type": "histogram"
           }
          ],
          "histogram2d": [
           {
            "colorbar": {
             "outlinewidth": 0,
             "ticks": ""
            },
            "colorscale": [
             [
              0,
              "#0d0887"
             ],
             [
              0.1111111111111111,
              "#46039f"
             ],
             [
              0.2222222222222222,
              "#7201a8"
             ],
             [
              0.3333333333333333,
              "#9c179e"
             ],
             [
              0.4444444444444444,
              "#bd3786"
             ],
             [
              0.5555555555555556,
              "#d8576b"
             ],
             [
              0.6666666666666666,
              "#ed7953"
             ],
             [
              0.7777777777777778,
              "#fb9f3a"
             ],
             [
              0.8888888888888888,
              "#fdca26"
             ],
             [
              1,
              "#f0f921"
             ]
            ],
            "type": "histogram2d"
           }
          ],
          "histogram2dcontour": [
           {
            "colorbar": {
             "outlinewidth": 0,
             "ticks": ""
            },
            "colorscale": [
             [
              0,
              "#0d0887"
             ],
             [
              0.1111111111111111,
              "#46039f"
             ],
             [
              0.2222222222222222,
              "#7201a8"
             ],
             [
              0.3333333333333333,
              "#9c179e"
             ],
             [
              0.4444444444444444,
              "#bd3786"
             ],
             [
              0.5555555555555556,
              "#d8576b"
             ],
             [
              0.6666666666666666,
              "#ed7953"
             ],
             [
              0.7777777777777778,
              "#fb9f3a"
             ],
             [
              0.8888888888888888,
              "#fdca26"
             ],
             [
              1,
              "#f0f921"
             ]
            ],
            "type": "histogram2dcontour"
           }
          ],
          "mesh3d": [
           {
            "colorbar": {
             "outlinewidth": 0,
             "ticks": ""
            },
            "type": "mesh3d"
           }
          ],
          "parcoords": [
           {
            "line": {
             "colorbar": {
              "outlinewidth": 0,
              "ticks": ""
             }
            },
            "type": "parcoords"
           }
          ],
          "pie": [
           {
            "automargin": true,
            "type": "pie"
           }
          ],
          "scatter": [
           {
            "fillpattern": {
             "fillmode": "overlay",
             "size": 10,
             "solidity": 0.2
            },
            "type": "scatter"
           }
          ],
          "scatter3d": [
           {
            "line": {
             "colorbar": {
              "outlinewidth": 0,
              "ticks": ""
             }
            },
            "marker": {
             "colorbar": {
              "outlinewidth": 0,
              "ticks": ""
             }
            },
            "type": "scatter3d"
           }
          ],
          "scattercarpet": [
           {
            "marker": {
             "colorbar": {
              "outlinewidth": 0,
              "ticks": ""
             }
            },
            "type": "scattercarpet"
           }
          ],
          "scattergeo": [
           {
            "marker": {
             "colorbar": {
              "outlinewidth": 0,
              "ticks": ""
             }
            },
            "type": "scattergeo"
           }
          ],
          "scattergl": [
           {
            "marker": {
             "colorbar": {
              "outlinewidth": 0,
              "ticks": ""
             }
            },
            "type": "scattergl"
           }
          ],
          "scattermap": [
           {
            "marker": {
             "colorbar": {
              "outlinewidth": 0,
              "ticks": ""
             }
            },
            "type": "scattermap"
           }
          ],
          "scattermapbox": [
           {
            "marker": {
             "colorbar": {
              "outlinewidth": 0,
              "ticks": ""
             }
            },
            "type": "scattermapbox"
           }
          ],
          "scatterpolar": [
           {
            "marker": {
             "colorbar": {
              "outlinewidth": 0,
              "ticks": ""
             }
            },
            "type": "scatterpolar"
           }
          ],
          "scatterpolargl": [
           {
            "marker": {
             "colorbar": {
              "outlinewidth": 0,
              "ticks": ""
             }
            },
            "type": "scatterpolargl"
           }
          ],
          "scatterternary": [
           {
            "marker": {
             "colorbar": {
              "outlinewidth": 0,
              "ticks": ""
             }
            },
            "type": "scatterternary"
           }
          ],
          "surface": [
           {
            "colorbar": {
             "outlinewidth": 0,
             "ticks": ""
            },
            "colorscale": [
             [
              0,
              "#0d0887"
             ],
             [
              0.1111111111111111,
              "#46039f"
             ],
             [
              0.2222222222222222,
              "#7201a8"
             ],
             [
              0.3333333333333333,
              "#9c179e"
             ],
             [
              0.4444444444444444,
              "#bd3786"
             ],
             [
              0.5555555555555556,
              "#d8576b"
             ],
             [
              0.6666666666666666,
              "#ed7953"
             ],
             [
              0.7777777777777778,
              "#fb9f3a"
             ],
             [
              0.8888888888888888,
              "#fdca26"
             ],
             [
              1,
              "#f0f921"
             ]
            ],
            "type": "surface"
           }
          ],
          "table": [
           {
            "cells": {
             "fill": {
              "color": "#EBF0F8"
             },
             "line": {
              "color": "white"
             }
            },
            "header": {
             "fill": {
              "color": "#C8D4E3"
             },
             "line": {
              "color": "white"
             }
            },
            "type": "table"
           }
          ]
         },
         "layout": {
          "annotationdefaults": {
           "arrowcolor": "#2a3f5f",
           "arrowhead": 0,
           "arrowwidth": 1
          },
          "autotypenumbers": "strict",
          "coloraxis": {
           "colorbar": {
            "outlinewidth": 0,
            "ticks": ""
           }
          },
          "colorscale": {
           "diverging": [
            [
             0,
             "#8e0152"
            ],
            [
             0.1,
             "#c51b7d"
            ],
            [
             0.2,
             "#de77ae"
            ],
            [
             0.3,
             "#f1b6da"
            ],
            [
             0.4,
             "#fde0ef"
            ],
            [
             0.5,
             "#f7f7f7"
            ],
            [
             0.6,
             "#e6f5d0"
            ],
            [
             0.7,
             "#b8e186"
            ],
            [
             0.8,
             "#7fbc41"
            ],
            [
             0.9,
             "#4d9221"
            ],
            [
             1,
             "#276419"
            ]
           ],
           "sequential": [
            [
             0,
             "#0d0887"
            ],
            [
             0.1111111111111111,
             "#46039f"
            ],
            [
             0.2222222222222222,
             "#7201a8"
            ],
            [
             0.3333333333333333,
             "#9c179e"
            ],
            [
             0.4444444444444444,
             "#bd3786"
            ],
            [
             0.5555555555555556,
             "#d8576b"
            ],
            [
             0.6666666666666666,
             "#ed7953"
            ],
            [
             0.7777777777777778,
             "#fb9f3a"
            ],
            [
             0.8888888888888888,
             "#fdca26"
            ],
            [
             1,
             "#f0f921"
            ]
           ],
           "sequentialminus": [
            [
             0,
             "#0d0887"
            ],
            [
             0.1111111111111111,
             "#46039f"
            ],
            [
             0.2222222222222222,
             "#7201a8"
            ],
            [
             0.3333333333333333,
             "#9c179e"
            ],
            [
             0.4444444444444444,
             "#bd3786"
            ],
            [
             0.5555555555555556,
             "#d8576b"
            ],
            [
             0.6666666666666666,
             "#ed7953"
            ],
            [
             0.7777777777777778,
             "#fb9f3a"
            ],
            [
             0.8888888888888888,
             "#fdca26"
            ],
            [
             1,
             "#f0f921"
            ]
           ]
          },
          "colorway": [
           "#636efa",
           "#EF553B",
           "#00cc96",
           "#ab63fa",
           "#FFA15A",
           "#19d3f3",
           "#FF6692",
           "#B6E880",
           "#FF97FF",
           "#FECB52"
          ],
          "font": {
           "color": "#2a3f5f"
          },
          "geo": {
           "bgcolor": "white",
           "lakecolor": "white",
           "landcolor": "#E5ECF6",
           "showlakes": true,
           "showland": true,
           "subunitcolor": "white"
          },
          "hoverlabel": {
           "align": "left"
          },
          "hovermode": "closest",
          "mapbox": {
           "style": "light"
          },
          "paper_bgcolor": "white",
          "plot_bgcolor": "#E5ECF6",
          "polar": {
           "angularaxis": {
            "gridcolor": "white",
            "linecolor": "white",
            "ticks": ""
           },
           "bgcolor": "#E5ECF6",
           "radialaxis": {
            "gridcolor": "white",
            "linecolor": "white",
            "ticks": ""
           }
          },
          "scene": {
           "xaxis": {
            "backgroundcolor": "#E5ECF6",
            "gridcolor": "white",
            "gridwidth": 2,
            "linecolor": "white",
            "showbackground": true,
            "ticks": "",
            "zerolinecolor": "white"
           },
           "yaxis": {
            "backgroundcolor": "#E5ECF6",
            "gridcolor": "white",
            "gridwidth": 2,
            "linecolor": "white",
            "showbackground": true,
            "ticks": "",
            "zerolinecolor": "white"
           },
           "zaxis": {
            "backgroundcolor": "#E5ECF6",
            "gridcolor": "white",
            "gridwidth": 2,
            "linecolor": "white",
            "showbackground": true,
            "ticks": "",
            "zerolinecolor": "white"
           }
          },
          "shapedefaults": {
           "line": {
            "color": "#2a3f5f"
           }
          },
          "ternary": {
           "aaxis": {
            "gridcolor": "white",
            "linecolor": "white",
            "ticks": ""
           },
           "baxis": {
            "gridcolor": "white",
            "linecolor": "white",
            "ticks": ""
           },
           "bgcolor": "#E5ECF6",
           "caxis": {
            "gridcolor": "white",
            "linecolor": "white",
            "ticks": ""
           }
          },
          "title": {
           "x": 0.05
          },
          "xaxis": {
           "automargin": true,
           "gridcolor": "white",
           "linecolor": "white",
           "ticks": "",
           "title": {
            "standoff": 15
           },
           "zerolinecolor": "white",
           "zerolinewidth": 2
          },
          "yaxis": {
           "automargin": true,
           "gridcolor": "white",
           "linecolor": "white",
           "ticks": "",
           "title": {
            "standoff": 15
           },
           "zerolinecolor": "white",
           "zerolinewidth": 2
          }
         }
        },
        "title": {
         "font": {
          "size": 20
         },
         "text": "Faturamento Total Oeste",
         "x": 0.44,
         "xanchor": "center",
         "yanchor": "top"
        },
        "xaxis": {
         "anchor": "y",
         "domain": [
          0,
          1
         ],
         "title": {
          "text": "Vlr.Total"
         }
        },
        "yaxis": {
         "anchor": "x",
         "categoryarray": [
          "CHAPECO",
          "LAGES",
          "SAO MIGUEL DO OESTE",
          "JOACABA",
          "CONCORDIA",
          "CACADOR",
          "XANXERE",
          "VIDEIRA"
         ],
         "categoryorder": "array",
         "domain": [
          0,
          1
         ],
         "showticklabels": false,
         "title": {
          "text": "Municipio"
         },
         "visible": false
        }
       }
      }
     },
     "metadata": {},
     "output_type": "display_data"
    }
   ],
   "source": [
    "lista_cidades = ['XANXERE','SAO MIGUEL DO OESTE','LAGES','CHAPECO','CACADOR','CONCORDIA','JOACABA','VIDEIRA']\n",
    "\n",
    "\n",
    "df_sul = (df_filtrado[df_filtrado['Municipio'].isin(lista_cidades)])\n",
    "df_sul = df_sul.groupby('Municipio')['Vlr.Total'].sum().reset_index().sort_values(by='Vlr.Total',ascending=False)\n",
    "df_sul['Vlr.Total'] = df_sul['Vlr.Total'].astype('int64')\n",
    "fig = px.funnel(df_sul,x='Vlr.Total',y='Municipio',color='Municipio')\n",
    "fig = fig.update_layout(title={\n",
    "        \"text\": \"Faturamento Total Oeste\",\n",
    "        \"x\": 0.44,  \n",
    "        \"xanchor\": \"center\",\n",
    "        \"yanchor\": \"top\",\n",
    "        \"font\": {\"size\": 20}}).update_yaxes(showticklabels=False,visible=False,categoryarray=df_sul['Municipio'].to_list())\n",
    "\n",
    "\n",
    "fig.show()"
   ]
  }
 ],
 "metadata": {
  "kernelspec": {
   "display_name": "Python 3",
   "language": "python",
   "name": "python3"
  },
  "language_info": {
   "codemirror_mode": {
    "name": "ipython",
    "version": 3
   },
   "file_extension": ".py",
   "mimetype": "text/x-python",
   "name": "python",
   "nbconvert_exporter": "python",
   "pygments_lexer": "ipython3",
   "version": "3.13.3"
  }
 },
 "nbformat": 4,
 "nbformat_minor": 2
}
